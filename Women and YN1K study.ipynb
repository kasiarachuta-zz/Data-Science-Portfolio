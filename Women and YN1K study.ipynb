{
 "cells": [
  {
   "cell_type": "code",
   "execution_count": 1,
   "metadata": {
    "collapsed": true
   },
   "outputs": [],
   "source": [
    "# I import useful modules\n",
    "import pandas as pd\n",
    "import scipy.stats\n",
    "import matplotlib as mpl\n",
    "import matplotlib.pyplot as plt\n",
    "%matplotlib inline"
   ]
  },
  {
   "cell_type": "code",
   "execution_count": 2,
   "metadata": {
    "collapsed": false
   },
   "outputs": [
    {
     "data": {
      "text/plain": [
       "Index([u'person_id', u'member_type', u'entry_id', u'Gender', u'Score',\n",
       "       u'Top 1K', u'Industry', u'Degree completed', u'Country', u'Region',\n",
       "       u'Continent', u'Product type'],\n",
       "      dtype='object')"
      ]
     },
     "execution_count": 2,
     "metadata": {},
     "output_type": "execute_result"
    }
   ],
   "source": [
    "'''I read the data file. I then want to see what columns I have (this is proprietary data and \n",
    "I am not allowed to show it. Top 1K shows whether the startup is in the top 1,000 in the YN network.\n",
    "Score is a normalized score given to a startup by the judge.'''\n",
    "genderdata = pd.read_csv(\"alldata.csv\")\n",
    "genderdata.columns"
   ]
  },
  {
   "cell_type": "raw",
   "metadata": {},
   "source": [
    "Firstly, I want to see the proportion of females and males in the YN1K and in the whole population.\n",
    "I am curious if there is any bias for/against females in the top 1,000 startups."
   ]
  },
  {
   "cell_type": "code",
   "execution_count": 3,
   "metadata": {
    "collapsed": false
   },
   "outputs": [
    {
     "data": {
      "text/plain": [
       "Male      0.730867\n",
       "Female    0.269133\n",
       "Name: Gender, dtype: float64"
      ]
     },
     "execution_count": 3,
     "metadata": {},
     "output_type": "execute_result"
    }
   ],
   "source": [
    "# Firstly, I want to see what is the proportion of females and males in the non-1K startups.\n",
    "\n",
    "non1k = genderdata[genderdata['Top 1K'] == 'no']\n",
    "# I now look at the gender counts for non-1K startups.\n",
    "non1k['Gender'].value_counts(normalize=True)"
   ]
  },
  {
   "cell_type": "code",
   "execution_count": 13,
   "metadata": {
    "collapsed": false
   },
   "outputs": [],
   "source": [
    "# I can see that roughly 73% of the network is male and 27% of the network is female."
   ]
  },
  {
   "cell_type": "code",
   "execution_count": 4,
   "metadata": {
    "collapsed": false
   },
   "outputs": [
    {
     "data": {
      "text/plain": [
       "Male      0.718926\n",
       "Female    0.281074\n",
       "Name: Gender, dtype: float64"
      ]
     },
     "execution_count": 4,
     "metadata": {},
     "output_type": "execute_result"
    }
   ],
   "source": [
    "data1k = genderdata[genderdata['Top 1K'] == 'yes']\n",
    "data1k['Gender'].value_counts(normalize=True)"
   ]
  },
  {
   "cell_type": "code",
   "execution_count": null,
   "metadata": {
    "collapsed": true
   },
   "outputs": [],
   "source": [
    "'''I can see above that the difference between males and females in the two 1,000 is very small.'''"
   ]
  },
  {
   "cell_type": "raw",
   "metadata": {},
   "source": [
    "I now want to compare the score for males and females in the whole network."
   ]
  },
  {
   "cell_type": "code",
   "execution_count": 7,
   "metadata": {
    "collapsed": false
   },
   "outputs": [
    {
     "data": {
      "text/plain": [
       "count    6182.000000\n",
       "mean        0.508826\n",
       "std         0.244995\n",
       "min         0.000000\n",
       "25%         0.348214\n",
       "50%         0.483333\n",
       "75%         0.700000\n",
       "max         1.000000\n",
       "Name: Score, dtype: float64"
      ]
     },
     "execution_count": 7,
     "metadata": {},
     "output_type": "execute_result"
    }
   ],
   "source": [
    "# Score for females for all startups.\n",
    "females = genderdata[genderdata['Gender'] == 'Female']\n",
    "females['Score'].describe()"
   ]
  },
  {
   "cell_type": "code",
   "execution_count": 8,
   "metadata": {
    "collapsed": false
   },
   "outputs": [
    {
     "data": {
      "text/plain": [
       "(array([ 278.,   16.,   14.,   19.,   24.,   33.,   51.,   15.,   53.,\n",
       "          69.,   86.,   57.,  114.,  136.,  111.,  177.,  228.,  175.,\n",
       "         319.,  278.,  273.,  240.,  180.,  124.,   76.,  263.,  139.,\n",
       "          97.,  157.,  114.,  135.,  178.,  108.,  132.,  139.,  150.,\n",
       "         150.,  168.,  101.,   98.,  162.,  100.,   90.,  115.,   54.,\n",
       "          88.,   78.,   30.,   21.,  169.]),\n",
       " array([ 0.  ,  0.02,  0.04,  0.06,  0.08,  0.1 ,  0.12,  0.14,  0.16,\n",
       "         0.18,  0.2 ,  0.22,  0.24,  0.26,  0.28,  0.3 ,  0.32,  0.34,\n",
       "         0.36,  0.38,  0.4 ,  0.42,  0.44,  0.46,  0.48,  0.5 ,  0.52,\n",
       "         0.54,  0.56,  0.58,  0.6 ,  0.62,  0.64,  0.66,  0.68,  0.7 ,\n",
       "         0.72,  0.74,  0.76,  0.78,  0.8 ,  0.82,  0.84,  0.86,  0.88,\n",
       "         0.9 ,  0.92,  0.94,  0.96,  0.98,  1.  ]),\n",
       " <a list of 50 Patch objects>)"
      ]
     },
     "execution_count": 8,
     "metadata": {},
     "output_type": "execute_result"
    },
    {
     "data": {
      "image/png": "[encoded data removed]",
      "text/plain": [
       "<matplotlib.figure.Figure at 0x11372ccd0>"
      ]
     },
     "metadata": {},
     "output_type": "display_data"
    }
   ],
   "source": [
    "plt.hist(females['Score'], bins=50)"
   ]
  },
  {
   "cell_type": "code",
   "execution_count": 9,
   "metadata": {
    "collapsed": false
   },
   "outputs": [
    {
     "data": {
      "text/plain": [
       "count    16717.000000\n",
       "mean         0.516949\n",
       "std          0.242252\n",
       "min          0.000000\n",
       "25%          0.352113\n",
       "50%          0.519608\n",
       "75%          0.696000\n",
       "max          1.000000\n",
       "Name: Score, dtype: float64"
      ]
     },
     "execution_count": 9,
     "metadata": {},
     "output_type": "execute_result"
    }
   ],
   "source": [
    "# I now want to look at all the males.\n",
    "males = genderdata[genderdata['Gender'] == 'Male']\n",
    "males['Score'].describe()"
   ]
  },
  {
   "cell_type": "code",
   "execution_count": 10,
   "metadata": {
    "collapsed": false
   },
   "outputs": [
    {
     "data": {
      "text/plain": [
       "(array([ 655.,   43.,   57.,   90.,   91.,  117.,  153.,  103.,  157.,\n",
       "         200.,  259.,  165.,  297.,  322.,  315.,  437.,  466.,  408.,\n",
       "         676.,  449.,  583.,  517.,  425.,  376.,  300.,  698.,  540.,\n",
       "         310.,  540.,  391.,  527.,  639.,  358.,  438.,  468.,  442.,\n",
       "         440.,  389.,  324.,  219.,  474.,  241.,  231.,  287.,  153.,\n",
       "         175.,  217.,  115.,   67.,  373.]),\n",
       " array([ 0.  ,  0.02,  0.04,  0.06,  0.08,  0.1 ,  0.12,  0.14,  0.16,\n",
       "         0.18,  0.2 ,  0.22,  0.24,  0.26,  0.28,  0.3 ,  0.32,  0.34,\n",
       "         0.36,  0.38,  0.4 ,  0.42,  0.44,  0.46,  0.48,  0.5 ,  0.52,\n",
       "         0.54,  0.56,  0.58,  0.6 ,  0.62,  0.64,  0.66,  0.68,  0.7 ,\n",
       "         0.72,  0.74,  0.76,  0.78,  0.8 ,  0.82,  0.84,  0.86,  0.88,\n",
       "         0.9 ,  0.92,  0.94,  0.96,  0.98,  1.  ]),\n",
       " <a list of 50 Patch objects>)"
      ]
     },
     "execution_count": 10,
     "metadata": {},
     "output_type": "execute_result"
    },
    {
     "data": {
      "image/png": "[encoded data removed]",
      "text/plain": [
       "<matplotlib.figure.Figure at 0x1164b0250>"
      ]
     },
     "metadata": {},
     "output_type": "display_data"
    }
   ],
   "source": [
    "plt.hist(males['Score'], bins=50)"
   ]
  },
  {
   "cell_type": "code",
   "execution_count": 17,
   "metadata": {
    "collapsed": false
   },
   "outputs": [
    {
     "data": {
      "text/plain": [
       "F_onewayResult(statistic=5.043663289473618, pvalue=0.024725666922025581)"
      ]
     },
     "execution_count": 17,
     "metadata": {},
     "output_type": "execute_result"
    }
   ],
   "source": [
    "# I want to perform an ANOVA to see if there is a difference in the mean of the two samples (male and female)\n",
    "\n",
    "scipy.stats.f_oneway(males['Score'], females['Score'])\n",
    "\n",
    "'''I can see that the p-value is really small - <0.05 which makes this test statistically significant.\n",
    "The F-value is 5.04 which means ??'''"
   ]
  },
  {
   "cell_type": "code",
   "execution_count": 19,
   "metadata": {
    "collapsed": false
   },
   "outputs": [
    {
     "data": {
      "text/plain": [
       "Ttest_indResult(statistic=2.2458101632759337, pvalue=0.024725666922142224)"
      ]
     },
     "execution_count": 19,
     "metadata": {},
     "output_type": "execute_result"
    }
   ],
   "source": [
    "scipy.stats.ttest_ind(males['Score'], females['Score'])\n",
    "\n",
    "# Again, there is a significant difference in the scores betwen males and females."
   ]
  },
  {
   "cell_type": "code",
   "execution_count": 11,
   "metadata": {
    "collapsed": false
   },
   "outputs": [
    {
     "data": {
      "text/plain": [
       "count    450.000000\n",
       "mean       0.948485\n",
       "std        0.044166\n",
       "min        0.875000\n",
       "25%        0.906667\n",
       "50%        0.937500\n",
       "75%        1.000000\n",
       "max        1.000000\n",
       "Name: Score, dtype: float64"
      ]
     },
     "execution_count": 11,
     "metadata": {},
     "output_type": "execute_result"
    }
   ],
   "source": [
    "# I now want to look at scores for top 1,000 startups on an individual level - for different genders.\n",
    "fem1k = data1k[data1k['Gender'] == 'Female']\n",
    "fem1k['Score'].describe()"
   ]
  },
  {
   "cell_type": "code",
   "execution_count": 12,
   "metadata": {
    "collapsed": false
   },
   "outputs": [
    {
     "data": {
      "text/plain": [
       "'Unique_entry_id refers to the unique entry_id of a startup. Females column refers to the number of females,\\nmales column refers to the number of males in the startup.'"
      ]
     },
     "execution_count": 12,
     "metadata": {},
     "output_type": "execute_result"
    }
   ],
   "source": [
    "'''I now want to investigate if all-female, all-male or mixed-gender startups do best in startup competitions.\n",
    "I read another file with data on startups, not individual entrepreneurs.'''\n",
    "\n",
    "startupgender = pd.read_csv(\"startupgender.csv\")\n",
    "startupgender.columns\n",
    "'''Unique_entry_id refers to the unique entry_id of a startup. Females column refers to the number of females,\n",
    "males column refers to the number of males in the startup.'''"
   ]
  },
  {
   "cell_type": "raw",
   "metadata": {},
   "source": [
    "Here I want to look at the all-female, all-male and mixed-gender startups to see\n",
    "if there is any significant difference in how well they perform."
   ]
  },
  {
   "cell_type": "code",
   "execution_count": 13,
   "metadata": {
    "collapsed": false
   },
   "outputs": [],
   "source": [
    "# I add two extra columns that will tell me the percentage of females and males in each startup.\n",
    "startupgender['% of females'] = startupgender['Females'] / (startupgender['Females'] + startupgender['Males'])\n",
    "startupgender['% of males'] = startupgender['Males'] / (startupgender['Females'] + startupgender['Males'])"
   ]
  },
  {
   "cell_type": "code",
   "execution_count": 14,
   "metadata": {
    "collapsed": false
   },
   "outputs": [
    {
     "data": {
      "text/plain": [
       "count    3648.000000\n",
       "mean        0.471768\n",
       "std         0.249211\n",
       "min         0.000000\n",
       "25%         0.325893\n",
       "50%         0.413793\n",
       "75%         0.661616\n",
       "max         1.000000\n",
       "Name: Score, dtype: float64"
      ]
     },
     "execution_count": 14,
     "metadata": {},
     "output_type": "execute_result"
    }
   ],
   "source": [
    "# Firstly, I want to look at all-female startups, i.e. startups where % of males is equal to zero.\n",
    "femalestartups = startupgender[startupgender['% of males'] == 0]\n",
    "femalestartups['Score'].describe()"
   ]
  },
  {
   "cell_type": "code",
   "execution_count": 15,
   "metadata": {
    "collapsed": false
   },
   "outputs": [
    {
     "data": {
      "text/plain": [
       "count    10073.000000\n",
       "mean         0.485887\n",
       "std          0.249305\n",
       "min          0.000000\n",
       "25%          0.323661\n",
       "50%          0.466667\n",
       "75%          0.668675\n",
       "max          1.000000\n",
       "Name: Score, dtype: float64"
      ]
     },
     "execution_count": 15,
     "metadata": {},
     "output_type": "execute_result"
    }
   ],
   "source": [
    "# Secondly, I look at all-male startups, i.e. startups where % of females is equal to zero.\n",
    "malestartups = startupgender[startupgender['% of females'] == 0]\n",
    "malestartups['Score'].describe()"
   ]
  },
  {
   "cell_type": "code",
   "execution_count": 16,
   "metadata": {
    "collapsed": false
   },
   "outputs": [
    {
     "data": {
      "text/plain": [
       "count    1625.000000\n",
       "mean        0.554996\n",
       "std         0.224366\n",
       "min         0.000000\n",
       "25%         0.412437\n",
       "50%         0.562500\n",
       "75%         0.730964\n",
       "max         1.000000\n",
       "Name: Score, dtype: float64"
      ]
     },
     "execution_count": 16,
     "metadata": {},
     "output_type": "execute_result"
    }
   ],
   "source": [
    "# I now want to look at mixed-gender startups - so the % of females and % of males cannot be zero.\n",
    "mixedgender = startupgender[startupgender['% of females'] != 0]\n",
    "mixedgender = mixedgender[mixedgender['% of males'] != 0]\n",
    "mixedgender['Score'].describe()"
   ]
  },
  {
   "cell_type": "code",
   "execution_count": 22,
   "metadata": {
    "collapsed": false
   },
   "outputs": [
    {
     "data": {
      "text/plain": [
       "Ttest_indResult(statistic=2.9309352875201866, pvalue=0.0033850062156725088)"
      ]
     },
     "execution_count": 22,
     "metadata": {},
     "output_type": "execute_result"
    }
   ],
   "source": [
    "scipy.stats.ttest_ind(malestartups['Score'], femalestartups['Score'])"
   ]
  },
  {
   "cell_type": "code",
   "execution_count": 23,
   "metadata": {
    "collapsed": false
   },
   "outputs": [
    {
     "data": {
      "text/plain": [
       "Ttest_indResult(statistic=11.539429828596528, pvalue=1.9326731527045705e-30)"
      ]
     },
     "execution_count": 23,
     "metadata": {},
     "output_type": "execute_result"
    }
   ],
   "source": [
    "scipy.stats.ttest_ind(mixedgender['Score'], femalestartups['Score'])"
   ]
  },
  {
   "cell_type": "code",
   "execution_count": 24,
   "metadata": {
    "collapsed": false
   },
   "outputs": [
    {
     "data": {
      "text/plain": [
       "Ttest_indResult(statistic=10.509053538629274, pvalue=1.0216271247913074e-25)"
      ]
     },
     "execution_count": 24,
     "metadata": {},
     "output_type": "execute_result"
    }
   ],
   "source": [
    "scipy.stats.ttest_ind(mixedgender['Score'], malestartups['Score'])"
   ]
  },
  {
   "cell_type": "code",
   "execution_count": 21,
   "metadata": {
    "collapsed": false
   },
   "outputs": [
    {
     "data": {
      "text/plain": [
       "F_onewayResult(statistic=67.722192878127856, pvalue=5.2201705180889969e-30)"
      ]
     },
     "execution_count": 21,
     "metadata": {},
     "output_type": "execute_result"
    }
   ],
   "source": [
    "scipy.stats.f_oneway(mixedgender['Score'], malestartups['Score'], femalestartups['Score'])\n",
    "# This essentially means that these three groups do differently in a startup competition."
   ]
  },
  {
   "cell_type": "code",
   "execution_count": 25,
   "metadata": {
    "collapsed": false
   },
   "outputs": [
    {
     "ename": "ValueError",
     "evalue": "data has 1625 elements and groups has 10073",
     "output_type": "error",
     "traceback": [
      "\u001b[0;31m---------------------------------------------------------------------------\u001b[0m",
      "\u001b[0;31mValueError\u001b[0m                                Traceback (most recent call last)",
      "\u001b[0;32m<ipython-input-25-63d1f40016ff>\u001b[0m in \u001b[0;36m<module>\u001b[0;34m()\u001b[0m\n\u001b[1;32m      2\u001b[0m \u001b[0;34m\u001b[0m\u001b[0m\n\u001b[1;32m      3\u001b[0m \u001b[0;32mfrom\u001b[0m \u001b[0mstatsmodels\u001b[0m\u001b[0;34m.\u001b[0m\u001b[0mstats\u001b[0m\u001b[0;34m.\u001b[0m\u001b[0mmulticomp\u001b[0m \u001b[0;32mimport\u001b[0m \u001b[0mpairwise_tukeyhsd\u001b[0m\u001b[0;34m\u001b[0m\u001b[0m\n\u001b[0;32m----> 4\u001b[0;31m \u001b[0;32mprint\u001b[0m \u001b[0mpairwise_tukeyhsd\u001b[0m\u001b[0;34m(\u001b[0m\u001b[0mmixedgender\u001b[0m\u001b[0;34m[\u001b[0m\u001b[0;34m'Score'\u001b[0m\u001b[0;34m]\u001b[0m\u001b[0;34m,\u001b[0m \u001b[0mmalestartups\u001b[0m\u001b[0;34m[\u001b[0m\u001b[0;34m'Score'\u001b[0m\u001b[0;34m]\u001b[0m\u001b[0;34m,\u001b[0m \u001b[0mfemalestartups\u001b[0m\u001b[0;34m[\u001b[0m\u001b[0;34m'Score'\u001b[0m\u001b[0;34m]\u001b[0m\u001b[0;34m)\u001b[0m\u001b[0;34m\u001b[0m\u001b[0m\n\u001b[0m",
      "\u001b[0;32m/Users/katarzynarachuta/anaconda/lib/python2.7/site-packages/statsmodels/stats/multicomp.pyc\u001b[0m in \u001b[0;36mpairwise_tukeyhsd\u001b[0;34m(endog, groups, alpha)\u001b[0m\n\u001b[1;32m     36\u001b[0m     '''\n\u001b[1;32m     37\u001b[0m \u001b[0;34m\u001b[0m\u001b[0m\n\u001b[0;32m---> 38\u001b[0;31m     \u001b[0;32mreturn\u001b[0m \u001b[0mMultiComparison\u001b[0m\u001b[0;34m(\u001b[0m\u001b[0mendog\u001b[0m\u001b[0;34m,\u001b[0m \u001b[0mgroups\u001b[0m\u001b[0;34m)\u001b[0m\u001b[0;34m.\u001b[0m\u001b[0mtukeyhsd\u001b[0m\u001b[0;34m(\u001b[0m\u001b[0malpha\u001b[0m\u001b[0;34m=\u001b[0m\u001b[0malpha\u001b[0m\u001b[0;34m)\u001b[0m\u001b[0;34m\u001b[0m\u001b[0m\n\u001b[0m",
      "\u001b[0;32m/Users/katarzynarachuta/anaconda/lib/python2.7/site-packages/statsmodels/sandbox/stats/multicomp.pyc\u001b[0m in \u001b[0;36m__init__\u001b[0;34m(self, data, groups, group_order)\u001b[0m\n\u001b[1;32m    787\u001b[0m \u001b[0;34m\u001b[0m\u001b[0m\n\u001b[1;32m    788\u001b[0m         \u001b[0;32mif\u001b[0m \u001b[0mlen\u001b[0m\u001b[0;34m(\u001b[0m\u001b[0mdata\u001b[0m\u001b[0;34m)\u001b[0m \u001b[0;34m!=\u001b[0m \u001b[0mlen\u001b[0m\u001b[0;34m(\u001b[0m\u001b[0mgroups\u001b[0m\u001b[0;34m)\u001b[0m\u001b[0;34m:\u001b[0m\u001b[0;34m\u001b[0m\u001b[0m\n\u001b[0;32m--> 789\u001b[0;31m             \u001b[0;32mraise\u001b[0m \u001b[0mValueError\u001b[0m\u001b[0;34m(\u001b[0m\u001b[0;34m'data has %d elements and groups has %d'\u001b[0m \u001b[0;34m%\u001b[0m \u001b[0;34m(\u001b[0m\u001b[0mlen\u001b[0m\u001b[0;34m(\u001b[0m\u001b[0mdata\u001b[0m\u001b[0;34m)\u001b[0m\u001b[0;34m,\u001b[0m \u001b[0mlen\u001b[0m\u001b[0;34m(\u001b[0m\u001b[0mgroups\u001b[0m\u001b[0;34m)\u001b[0m\u001b[0;34m)\u001b[0m\u001b[0;34m)\u001b[0m\u001b[0;34m\u001b[0m\u001b[0m\n\u001b[0m\u001b[1;32m    790\u001b[0m         \u001b[0mself\u001b[0m\u001b[0;34m.\u001b[0m\u001b[0mdata\u001b[0m \u001b[0;34m=\u001b[0m \u001b[0mnp\u001b[0m\u001b[0;34m.\u001b[0m\u001b[0masarray\u001b[0m\u001b[0;34m(\u001b[0m\u001b[0mdata\u001b[0m\u001b[0;34m)\u001b[0m\u001b[0;34m\u001b[0m\u001b[0m\n\u001b[1;32m    791\u001b[0m         \u001b[0mself\u001b[0m\u001b[0;34m.\u001b[0m\u001b[0mgroups\u001b[0m \u001b[0;34m=\u001b[0m \u001b[0mgroups\u001b[0m \u001b[0;34m=\u001b[0m \u001b[0mnp\u001b[0m\u001b[0;34m.\u001b[0m\u001b[0masarray\u001b[0m\u001b[0;34m(\u001b[0m\u001b[0mgroups\u001b[0m\u001b[0;34m)\u001b[0m\u001b[0;34m\u001b[0m\u001b[0m\n",
      "\u001b[0;31mValueError\u001b[0m: data has 1625 elements and groups has 10073"
     ]
    }
   ],
   "source": [
    "# I now want to see what two groups differ.\n",
    "\n",
    "from statsmodels.stats.multicomp import pairwise_tukeyhsd\n",
    "print pairwise_tukeyhsd(mixedgender['Score'], malestartups['Score'], femalestartups['Score'])"
   ]
  },
  {
   "cell_type": "code",
   "execution_count": 51,
   "metadata": {
    "collapsed": false
   },
   "outputs": [
    {
     "name": "stdout",
     "output_type": "stream",
     "text": [
      "Test Statistic: 147.302889266\n",
      "p-value: 1.0\n"
     ]
    }
   ],
   "source": [
    "x = mixedgender['Score']\n",
    "chi2, p = scipy.stats.chisquare(x)\n",
    "msg = \"Test Statistic: {}\\np-value: {}\"\n",
    "print (msg.format(chi2, p))"
   ]
  }
 ],
 "metadata": {
  "kernelspec": {
   "display_name": "Python 2",
   "language": "python",
   "name": "python2"
  },
  "language_info": {
   "codemirror_mode": {
    "name": "ipython",
    "version": 2
   },
   "file_extension": ".py",
   "mimetype": "text/x-python",
   "name": "python",
   "nbconvert_exporter": "python",
   "pygments_lexer": "ipython2",
   "version": "2.7.11"
  }
 },
 "nbformat": 4,
 "nbformat_minor": 0
}
