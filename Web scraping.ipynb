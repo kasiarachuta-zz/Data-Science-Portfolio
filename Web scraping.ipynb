{
 "cells": [
  {
   "cell_type": "markdown",
   "metadata": {},
   "source": [
    "# Web scraping\n",
    "*Katarzyna O Rachuta, last updated 2017-02-07*\n",
    "\n",
    "This notebook shows how I scraped a website (www.google.com) to get the average visit time for different places. This information can be found in a box on a right handside when one can see 'Plan your visit: average visit time X min'."
   ]
  },
  {
   "cell_type": "code",
   "execution_count": 2,
   "metadata": {
    "collapsed": true
   },
   "outputs": [],
   "source": [
    "# Importing necessary modules.\n",
    "from bs4 import BeautifulSoup\n",
    "import requests\n",
    "import pandas as pd\n",
    "import re\n",
    "import urllib\n",
    "from selenium import webdriver\n",
    "from selenium.common.exceptions import TimeoutException\n",
    "from selenium.webdriver.common.by import By\n",
    "from selenium.webdriver.support.ui import WebDriverWait\n",
    "from selenium.webdriver.support import expected_conditions as EC"
   ]
  },
  {
   "cell_type": "markdown",
   "metadata": {},
   "source": [
    "Because I'm using a list of locations, I have written a function. \n",
    "\n",
    "The function takes a location name and then encodes it so Google search is possible. It then opens the webdriver (using Chrome) and fetches the data. Not all of the locations will have the average visit time, in which case I want to see 'None'.<br>\n",
    "I want the data to be output in a pandas DataFrame."
   ]
  },
  {
   "cell_type": "code",
   "execution_count": null,
   "metadata": {
    "collapsed": true
   },
   "outputs": [],
   "source": [
    "# My function.\n",
    "\n",
    "def visit_time_function(original_merchant_name):\n",
    "    encoded_merchant = urllib.quote_plus(original_merchant_name)\n",
    "    browser = webdriver.Chrome()\n",
    "    browser.get('https://www.google.com/#q='+ encoded_merchant)\n",
    "    delay = 3 # seconds\n",
    "    try:\n",
    "        WebDriverWait(browser, delay).until(EC.presence_of_element_located((By.CLASS_NAME, \"_B1k\")))\n",
    "    except TimeoutException:\n",
    "        pass\n",
    "    c = browser.page_source\n",
    "    soup = BeautifulSoup(c)\n",
    "    tables = soup.find('div',{'class':'_B1k'})\n",
    "    if tables is None:\n",
    "        visit_time = None\n",
    "    tables = str(tables)\n",
    "    visit_time = re.search('\\d+ min', tables)\n",
    "    if visit_time is not None:\n",
    "       visit_time = visit_time.group(0)\n",
    "    else:\n",
    "       visit_time = None\n",
    "    \n",
    "    visit_time_df = pd.DataFrame({\n",
    "            'Location': [location],\n",
    "            'Visit time': [visit_time]\n",
    "            \n",
    "        })\n",
    "    browser.quit()\n",
    "    return visit_time_df"
   ]
  },
  {
   "cell_type": "code",
   "execution_count": null,
   "metadata": {
    "collapsed": true
   },
   "outputs": [],
   "source": []
  },
  {
   "cell_type": "markdown",
   "metadata": {},
   "source": [
    "<b>To do:</b><br>\n",
    "    a) Add a list of sample locations.<br>\n",
    "    b) Loop over these locations."
   ]
  },
  {
   "cell_type": "markdown",
   "metadata": {},
   "source": [
    "# Scraping Yelp\n",
    "This part of the script scrapes Yelp data for the Price range (which is not given through the API). If the Price range does not appear on the Yelp page, 'None' will be returned."
   ]
  },
  {
   "cell_type": "code",
   "execution_count": 3,
   "metadata": {
    "collapsed": false
   },
   "outputs": [
    {
     "data": {
      "text/html": [
       "<div>\n",
       "<table border=\"1\" class=\"dataframe\">\n",
       "  <thead>\n",
       "    <tr style=\"text-align: right;\">\n",
       "      <th></th>\n",
       "      <th>Name</th>\n",
       "      <th>Yelp URL</th>\n",
       "    </tr>\n",
       "  </thead>\n",
       "  <tbody>\n",
       "    <tr>\n",
       "      <th>0</th>\n",
       "      <td>Teaquation</td>\n",
       "      <td>https://www.yelp.com/biz/teaquation-redwood-city</td>\n",
       "    </tr>\n",
       "    <tr>\n",
       "      <th>1</th>\n",
       "      <td>Taqueria Guadalajara</td>\n",
       "      <td>https://www.yelp.com/biz/taqueria-guadalajara-...</td>\n",
       "    </tr>\n",
       "    <tr>\n",
       "      <th>2</th>\n",
       "      <td>Lolo</td>\n",
       "      <td>https://www.yelp.com/biz/loló-san-francisco-4</td>\n",
       "    </tr>\n",
       "    <tr>\n",
       "      <th>3</th>\n",
       "      <td>Philz Coffee</td>\n",
       "      <td>https://www.yelp.com/biz/philz-coffee-san-fran...</td>\n",
       "    </tr>\n",
       "    <tr>\n",
       "      <th>4</th>\n",
       "      <td>21st Amendment Brewpub</td>\n",
       "      <td>https://www.yelp.com/biz/21st-amendment-brewpu...</td>\n",
       "    </tr>\n",
       "  </tbody>\n",
       "</table>\n",
       "</div>"
      ],
      "text/plain": [
       "                     Name                                           Yelp URL\n",
       "0              Teaquation   https://www.yelp.com/biz/teaquation-redwood-city\n",
       "1    Taqueria Guadalajara  https://www.yelp.com/biz/taqueria-guadalajara-...\n",
       "2                    Lolo      https://www.yelp.com/biz/loló-san-francisco-4\n",
       "3            Philz Coffee  https://www.yelp.com/biz/philz-coffee-san-fran...\n",
       "4  21st Amendment Brewpub  https://www.yelp.com/biz/21st-amendment-brewpu..."
      ]
     },
     "execution_count": 3,
     "metadata": {},
     "output_type": "execute_result"
    }
   ],
   "source": [
    "# I chose 5 sample businesses that I know of.\n",
    "locations = pd.read_csv(\"sample_businesses.csv\")\n",
    "locations"
   ]
  },
  {
   "cell_type": "code",
   "execution_count": 4,
   "metadata": {
    "collapsed": true
   },
   "outputs": [],
   "source": [
    "# I define a function that scrapes the data.\n",
    "def get_price_range(business_name):\n",
    "    url_df = locations[locations['Name'] == business_name]\n",
    "    url = url_df.iloc[0,1]\n",
    "    browser = webdriver.Chrome()\n",
    "    browser.get(url)\n",
    "    c = browser.page_source\n",
    "    soup = BeautifulSoup(c)\n",
    "    tables = soup.find('dd',{'class':'price-description'})\n",
    "    if tables is None:\n",
    "        price_range = None\n",
    "    else:\n",
    "        tables = tables.getText()\n",
    "    tables = str(tables)\n",
    "    price_range = re.search('\\w+.+', tables)\n",
    "    if price_range is not None:\n",
    "        price_range = price_range.group(0)\n",
    "    else:\n",
    "        price_range = None\n",
    "    browser.quit()\n",
    "    \n",
    "    price_range_df = pd.DataFrame({\n",
    "            'Business name': [business_name],\n",
    "            'Price range': [price_range]\n",
    "            \n",
    "        })\n",
    "    \n",
    "    return price_range_df"
   ]
  },
  {
   "cell_type": "code",
   "execution_count": 7,
   "metadata": {
    "collapsed": false
   },
   "outputs": [
    {
     "data": {
      "text/html": [
       "<div>\n",
       "<table border=\"1\" class=\"dataframe\">\n",
       "  <thead>\n",
       "    <tr style=\"text-align: right;\">\n",
       "      <th></th>\n",
       "      <th>Business name</th>\n",
       "      <th>Price range</th>\n",
       "    </tr>\n",
       "  </thead>\n",
       "  <tbody>\n",
       "    <tr>\n",
       "      <th>0</th>\n",
       "      <td>Teaquation</td>\n",
       "      <td>Inexpensive</td>\n",
       "    </tr>\n",
       "    <tr>\n",
       "      <th>0</th>\n",
       "      <td>Taqueria Guadalajara</td>\n",
       "      <td>Under $10</td>\n",
       "    </tr>\n",
       "    <tr>\n",
       "      <th>0</th>\n",
       "      <td>Lolo</td>\n",
       "      <td>11-30</td>\n",
       "    </tr>\n",
       "    <tr>\n",
       "      <th>0</th>\n",
       "      <td>Philz Coffee</td>\n",
       "      <td>Inexpensive</td>\n",
       "    </tr>\n",
       "    <tr>\n",
       "      <th>0</th>\n",
       "      <td>21st Amendment Brewpub</td>\n",
       "      <td>Moderate</td>\n",
       "    </tr>\n",
       "  </tbody>\n",
       "</table>\n",
       "</div>"
      ],
      "text/plain": [
       "            Business name  Price range\n",
       "0              Teaquation  Inexpensive\n",
       "0    Taqueria Guadalajara    Under $10\n",
       "0                    Lolo        11-30\n",
       "0            Philz Coffee  Inexpensive\n",
       "0  21st Amendment Brewpub     Moderate"
      ]
     },
     "execution_count": 7,
     "metadata": {},
     "output_type": "execute_result"
    }
   ],
   "source": [
    "# Creating an empty DataFrame for the final results.\n",
    "price_range_df_full = pd.DataFrame({\n",
    "        'Business name': [],\n",
    "        'Price range': []\n",
    "    })\n",
    "\n",
    "# Creating a list of businesses to consider.\n",
    "\n",
    "businesslist = locations['Name'].tolist()\n",
    "\n",
    "# Looping over to provide a full list.\n",
    "\n",
    "for business in businesslist:\n",
    "    price_range_df_full = price_range_df_full.append(get_price_range(business))\n",
    "\n",
    "# Showing the output.\n",
    "\n",
    "price_range_df_full"
   ]
  }
 ],
 "metadata": {
  "anaconda-cloud": {},
  "kernelspec": {
   "display_name": "Python [default]",
   "language": "python",
   "name": "python2"
  },
  "language_info": {
   "codemirror_mode": {
    "name": "ipython",
    "version": 2
   },
   "file_extension": ".py",
   "mimetype": "text/x-python",
   "name": "python",
   "nbconvert_exporter": "python",
   "pygments_lexer": "ipython2",
   "version": "2.7.12"
  }
 },
 "nbformat": 4,
 "nbformat_minor": 1
}
