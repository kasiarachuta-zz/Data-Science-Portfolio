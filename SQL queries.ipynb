{
 "cells": [
  {
   "cell_type": "code",
   "execution_count": null,
   "metadata": {
    "collapsed": true
   },
   "outputs": [],
   "source": [
    "'''These are some sample queries I have run in our database'''"
   ]
  },
  {
   "cell_type": "code",
   "execution_count": null,
   "metadata": {
    "collapsed": true
   },
   "outputs": [],
   "source": [
    "'''I now want to find judges from our startp competitions. I have to look in three tables: our judge table (where\n",
    "each judge has an id but doesn't actually have a name), people table (where there are names of people from our\n",
    "database) and finally, the table with e-mail addresses.\n",
    "I also want to sort this list by people who have judged most startup competitions. I want to only look at the entries \n",
    "that have actually been judged.\n",
    "'''\n",
    "\n",
    "SELECT COUNT(DISTINCT judge_entries.entry_id), judges.person_id, emails.email, people.first_name, people.last_name\n",
    "FROM judges_table\n",
    "INNER JOIN judge_entries ON judge_entries.judge_id = judges.id\n",
    "INNER JOIN people ON people.id = judges.person_id\n",
    "INNER JOIN emails ON emails.person_id = judges_table.person_id\n",
    "WHERE judge_entries.is_judged = 1\n",
    "AND judges_table.judge_round_id IN (1, 2, 3)\n",
    "GROUP BY judges_table.person_id\n",
    "\n",
    "# 1, 2, 3 are just an example of judge round ids - I'm not allowed to reveal the actual judge round ids."
   ]
  },
  {
   "cell_type": "code",
   "execution_count": null,
   "metadata": {
    "collapsed": true
   },
   "outputs": [],
   "source": [
    "'''I want to find the number of people that have unsubscribed from our e-mail lists.\n",
    "I slightly changed the table names. I have the table name with all of our members, competition entries and people\n",
    "who have unsubscribed.\n",
    "'''\n",
    "\n",
    "select count(*)\n",
    "from members\n",
    "inner join entries on entries.id = members.entry_id\n",
    "inner join entry_rounds on entry_rounds.id = entries.entry_round_id\n",
    "left join unsubscribers on unsubscribers.person_id = members.person_id\n",
    "where unsubscribers.type = 3\n",
    "and unsubscribers.id is not null\n",
    "and members.member_type_id in (1,2)\n",
    "and entries.id in (**** LIST OF ENTRY IDS CONTACTED PER MY FOLDER***)\n",
    "group by members.person_id"
   ]
  },
  {
   "cell_type": "code",
   "execution_count": null,
   "metadata": {
    "collapsed": true
   },
   "outputs": [],
   "source": [
    "''' I want to find how many people signed up for our opportunities.\n",
    "Members type 1, 2 mean a leader and one team member.\n",
    "'''\n",
    "\n",
    "select distinct entries.id\n",
    "from entries\n",
    "inner join entry_rounds  on entry_rounds.id = entries.entry_round_id\n",
    "inner join members on members.entry_id = entries.id\n",
    "where entries.identifier = 'email campaign name'\n",
    "and entries.submitted_at > \"2015-09-14 02:16:00\"\n",
    "and members.member_type_id in (1,2)\n",
    "and members.person_id in (\n",
    "    select members.person_id\n",
    "    from members\n",
    "    where members.member_type_id in (1,2)\n",
    "    and members.entry_id in (1,2,3)\n",
    ")"
   ]
  },
  {
   "cell_type": "code",
   "execution_count": null,
   "metadata": {
    "collapsed": true
   },
   "outputs": [],
   "source": [
    "'''Here I want to choose entries from the database that are based only in certain locations.\n",
    "They also need to have a normalized score of at least 0.5 and have been submitted after 1st January 2015.'''\n",
    "\n",
    "select entries.id\n",
    "from entries\n",
    "inner join members on members.entry_id = entries.id\n",
    "inner join people on people.id = members.person_id\n",
    "inner join locations on locations.id = people.location_id\n",
    "inner join data on data.data_id = entries.id\n",
    "where country in (\"India\", \"Bangladesh\", \"South Korea\", \"Pakistan\", \"Iran\", \"Egypt\", \"Brazil\", \"Mexico\", \"Argentina\", \"South Africa\", \"Canada\", \"Nigeria\")\n",
    "and data.value >= 0.5\n",
    "and entries.submitted_at > \"2015-01-01 06:02:00\""
   ]
  }
 ],
 "metadata": {
  "kernelspec": {
   "display_name": "Python 2",
   "language": "python",
   "name": "python2"
  },
  "language_info": {
   "codemirror_mode": {
    "name": "ipython",
    "version": 2
   },
   "file_extension": ".py",
   "mimetype": "text/x-python",
   "name": "python",
   "nbconvert_exporter": "python",
   "pygments_lexer": "ipython2",
   "version": "2.7.11"
  }
 },
 "nbformat": 4,
 "nbformat_minor": 0
}
